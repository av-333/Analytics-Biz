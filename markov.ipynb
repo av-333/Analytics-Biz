{
 "cells": [
  {
   "cell_type": "code",
   "execution_count": 2,
   "metadata": {},
   "outputs": [],
   "source": [
    "import os\n",
    "import warnings\n",
    "import matplotlib.pyplot as plt\n",
    "import numpy as np\n",
    "import pandas as pd\n",
    "import datetime as dt\n",
    "import math\n",
    "\n",
    "from pandas.plotting import autocorrelation_plot\n",
    "from statsmodels.tsa.statespace.sarimax import SARIMAX\n",
    "from sklearn.preprocessing import MinMaxScaler\n",
    "#from common.utils import load_data, mape\n",
    "from IPython.display import Image\n",
    "\n",
    "%matplotlib inline\n",
    "pd.options.display.float_format = '{:,.2f}'.format\n",
    "np.set_printoptions(precision=2)\n",
    "warnings.filterwarnings(\"ignore\") # specify to ignore warning messages"
   ]
  },
  {
   "cell_type": "code",
   "execution_count": 18,
   "metadata": {},
   "outputs": [
    {
     "data": {
      "text/html": [
       "<div>\n",
       "<style scoped>\n",
       "    .dataframe tbody tr th:only-of-type {\n",
       "        vertical-align: middle;\n",
       "    }\n",
       "\n",
       "    .dataframe tbody tr th {\n",
       "        vertical-align: top;\n",
       "    }\n",
       "\n",
       "    .dataframe thead th {\n",
       "        text-align: right;\n",
       "    }\n",
       "</style>\n",
       "<table border=\"1\" class=\"dataframe\">\n",
       "  <thead>\n",
       "    <tr style=\"text-align: right;\">\n",
       "      <th></th>\n",
       "      <th>Oct-13</th>\n",
       "      <th>1</th>\n",
       "      <th>2</th>\n",
       "      <th>3</th>\n",
       "      <th>4</th>\n",
       "      <th>5</th>\n",
       "      <th>6</th>\n",
       "      <th>7</th>\n",
       "      <th>8</th>\n",
       "      <th>9</th>\n",
       "      <th>...</th>\n",
       "      <th>64</th>\n",
       "      <th>65</th>\n",
       "      <th>66</th>\n",
       "      <th>67</th>\n",
       "      <th>68</th>\n",
       "      <th>69</th>\n",
       "      <th>70</th>\n",
       "      <th>71</th>\n",
       "      <th>72</th>\n",
       "      <th>73</th>\n",
       "    </tr>\n",
       "  </thead>\n",
       "  <tbody>\n",
       "    <tr>\n",
       "      <th>0</th>\n",
       "      <td>Counts</td>\n",
       "      <td>315</td>\n",
       "      <td>425</td>\n",
       "      <td>1013</td>\n",
       "      <td>1265</td>\n",
       "      <td>1381</td>\n",
       "      <td>1624</td>\n",
       "      <td>107</td>\n",
       "      <td>162</td>\n",
       "      <td>396</td>\n",
       "      <td>...</td>\n",
       "      <td>68</td>\n",
       "      <td>132</td>\n",
       "      <td>253</td>\n",
       "      <td>9</td>\n",
       "      <td>16</td>\n",
       "      <td>42</td>\n",
       "      <td>56</td>\n",
       "      <td>122</td>\n",
       "      <td>258</td>\n",
       "      <td>11299</td>\n",
       "    </tr>\n",
       "  </tbody>\n",
       "</table>\n",
       "<p>1 rows × 74 columns</p>\n",
       "</div>"
      ],
      "text/plain": [
       "   Oct-13    1    2     3     4     5     6    7    8    9  ...  64   65   66  \\\n",
       "0  Counts  315  425  1013  1265  1381  1624  107  162  396  ...  68  132  253   \n",
       "\n",
       "   67  68  69  70   71   72     73  \n",
       "0   9  16  42  56  122  258  11299  \n",
       "\n",
       "[1 rows x 74 columns]"
      ]
     },
     "execution_count": 18,
     "metadata": {},
     "output_type": "execute_result"
    }
   ],
   "source": [
    "#mypath =  r'G:\\My Drive\\Dropbox\\IIM-Aditya\\Teaching\\Executive courses\\MSDSM -Business Analytics\\codes\\TSA&F\\\\'\n",
    "\n",
    "#flipkart = pd.read_csv(mypath+ r'flipkart.csv')\n",
    "#a = pd.read_csv(mypath+ r'flipkart-i.csv')\n",
    "\n",
    "#flipkart.head()\n",
    "#a.head()"
   ]
  },
  {
   "cell_type": "code",
   "execution_count": 54,
   "metadata": {},
   "outputs": [],
   "source": [
    "mat=[[0.2,0,0.8],[0.5,0,.5],[0.3,0.7,0]]"
   ]
  },
  {
   "cell_type": "code",
   "execution_count": 55,
   "metadata": {},
   "outputs": [
    {
     "name": "stdout",
     "output_type": "stream",
     "text": [
      "[[0.2, 0, 0.8], [0.5, 0, 0.5], [0.3, 0.7, 0]]\n"
     ]
    }
   ],
   "source": [
    "print(mat)"
   ]
  },
  {
   "cell_type": "code",
   "execution_count": 56,
   "metadata": {},
   "outputs": [
    {
     "data": {
      "text/plain": [
       "array([[0.28, 0.56, 0.16],\n",
       "       [0.25, 0.35, 0.4 ],\n",
       "       [0.41, 0.  , 0.59]])"
      ]
     },
     "execution_count": 56,
     "metadata": {},
     "output_type": "execute_result"
    }
   ],
   "source": [
    "\n",
    "np.dot(mat, mat)"
   ]
  },
  {
   "cell_type": "code",
   "execution_count": 57,
   "metadata": {},
   "outputs": [
    {
     "name": "stdout",
     "output_type": "stream",
     "text": [
      "[[0.34216 0.25424 0.4036 ]\n",
      " [0.32035 0.2912  0.38845]\n",
      " [0.31025 0.28959 0.40016]]\n"
     ]
    }
   ],
   "source": [
    "np.set_printoptions(precision=5)\n",
    "\n",
    "from numpy.linalg import matrix_power\n",
    "print(np.linalg.matrix_power(mat,5))"
   ]
  },
  {
   "cell_type": "code",
   "execution_count": 43,
   "metadata": {},
   "outputs": [
    {
     "name": "stdout",
     "output_type": "stream",
     "text": [
      "[[0.8189, 0.0882, 0.0472, 0.0457], [0.1128, 0.718, 0.0902, 0.0789], [0.2077, 0.086, 0.602, 0.1], [0.0663, 0.0964, 0.0964, 0.741]]\n"
     ]
    }
   ],
   "source": [
    "biscuit=[[0.8189,0.0882,0.0472,0.0457],\n",
    "         [0.1128,0.7180,0.0902,0.0789],\n",
    "         [0.2077,.086,0.602,0.1],\n",
    "         [0.0663,0.0964,0.0964,0.7410]]\n",
    "  \n",
    "a=[450,225,175,150]\n",
    "print(biscuit)"
   ]
  },
  {
   "cell_type": "code",
   "execution_count": 44,
   "metadata": {},
   "outputs": [
    {
     "data": {
      "text/plain": [
       "matrix([[1.],\n",
       "        [1.],\n",
       "        [1.],\n",
       "        [1.]])"
      ]
     },
     "execution_count": 44,
     "metadata": {},
     "output_type": "execute_result"
    }
   ],
   "source": [
    "x=np.matrix(biscuit)\n",
    "x.sum(axis=1)"
   ]
  },
  {
   "cell_type": "code",
   "execution_count": 49,
   "metadata": {},
   "outputs": [
    {
     "data": {
      "text/plain": [
       "array([388.52, 234.42, 147.24, 197.31])"
      ]
     },
     "execution_count": 49,
     "metadata": {},
     "output_type": "execute_result"
    }
   ],
   "source": [
    "np.dot(a,np.linalg.matrix_power(biscuit,50))"
   ]
  },
  {
   "cell_type": "code",
   "execution_count": 13,
   "metadata": {},
   "outputs": [],
   "source": [
    "biscuitn=[[0.8189,0.0882,0.0472,0.0457],\n",
    "         [0.1128,0.7180,0.0903,0.0789],\n",
    "         [0.2077,.0849,0.6011,0.1063],\n",
    "         [0.0680,0.0964,0.0946,0.7410]]\n",
    "  "
   ]
  },
  {
   "cell_type": "code",
   "execution_count": 14,
   "metadata": {},
   "outputs": [
    {
     "data": {
      "text/plain": [
       "matrix([[1.],\n",
       "        [1.],\n",
       "        [1.],\n",
       "        [1.]])"
      ]
     },
     "execution_count": 14,
     "metadata": {},
     "output_type": "execute_result"
    }
   ],
   "source": [
    "xn=np.matrix(biscuitn)\n",
    "xn.sum(axis=1)"
   ]
  },
  {
   "cell_type": "code",
   "execution_count": 50,
   "metadata": {},
   "outputs": [],
   "source": [
    "an=[0.2,0.8]\n",
    "brand=np.matrix([[0.8,0.2],[0.25,0.75]])\n"
   ]
  },
  {
   "cell_type": "code",
   "execution_count": 53,
   "metadata": {},
   "outputs": [
    {
     "name": "stdout",
     "output_type": "stream",
     "text": [
      "[[0.2 0.8]]\n",
      "[[0.36 0.64]]\n",
      "[[0.45 0.55]]\n",
      "[[0.5 0.5]]\n",
      "[[0.52 0.48]]\n",
      "[[0.54 0.46]]\n",
      "[[0.55 0.45]]\n",
      "[[0.55 0.45]]\n",
      "[[0.55 0.45]]\n",
      "[[0.55 0.45]]\n",
      "[[0.55 0.45]]\n",
      "[[0.56 0.44]]\n",
      "[[0.56 0.44]]\n",
      "[[0.56 0.44]]\n",
      "[[0.56 0.44]]\n",
      "[[0.56 0.44]]\n",
      "[[0.56 0.44]]\n",
      "[[0.56 0.44]]\n",
      "[[0.56 0.44]]\n",
      "[[0.56 0.44]]\n",
      "[[0.56 0.44]]\n",
      "[[0.56 0.44]]\n",
      "[[0.56 0.44]]\n",
      "[[0.56 0.44]]\n",
      "[[0.56 0.44]]\n",
      "[[0.56 0.44]]\n",
      "[[0.56 0.44]]\n",
      "[[0.56 0.44]]\n",
      "[[0.56 0.44]]\n",
      "[[0.56 0.44]]\n"
     ]
    }
   ],
   "source": [
    "i=0\n",
    "while (i<30):\n",
    "    print(np.dot(an,np.linalg.matrix_power(brand,i)))\n",
    "    i=i+1"
   ]
  },
  {
   "cell_type": "code",
   "execution_count": 17,
   "metadata": {},
   "outputs": [],
   "source": [
    "\n",
    "\n",
    "def steady_state_prop(\n",
    "  p=np.matrix([\n",
    "          [0,.2,.4,.4],\n",
    "          [.2,0,.4,.4],\n",
    "          [.2,.3,0,.5],\n",
    "          [.3,.4,.3,0]\n",
    "          ])):\n",
    "    dim = p.shape[0]\n",
    "    q = (p-np.eye(dim))\n",
    "    ones = np.ones(dim)\n",
    "    q = np.c_[q,ones]\n",
    "    QTQ = np.dot(q, q.T)\n",
    "    bQT = np.ones(dim)\n",
    "    return np.linalg.solve(QTQ,bQT)"
   ]
  },
  {
   "cell_type": "code",
   "execution_count": 18,
   "metadata": {},
   "outputs": [],
   "source": [
    "flight=np.matrix([[0.45,.3,.2,.05],[0.15,0.6,0.15,0.1],[0.1,0.3,0.4,0.2],[0,.1,.7,.2]])"
   ]
  },
  {
   "cell_type": "code",
   "execution_count": 19,
   "metadata": {},
   "outputs": [
    {
     "data": {
      "text/plain": [
       "array([0.16279, 0.38953, 0.31105, 0.13663])"
      ]
     },
     "execution_count": 19,
     "metadata": {},
     "output_type": "execute_result"
    }
   ],
   "source": [
    "steady_state_prop(np.matrix(flight))"
   ]
  },
  {
   "cell_type": "code",
   "execution_count": 20,
   "metadata": {},
   "outputs": [
    {
     "data": {
      "text/plain": [
       "array([0.40291, 0.24275, 0.15258, 0.20176])"
      ]
     },
     "execution_count": 20,
     "metadata": {},
     "output_type": "execute_result"
    }
   ],
   "source": [
    "steady_state_prop(np.matrix(biscuit))"
   ]
  },
  {
   "cell_type": "code",
   "execution_count": 3,
   "metadata": {},
   "outputs": [],
   "source": [
    "airwaves=np.matrix([[1,0,0,0,0,0],\n",
    "                    [0,1,0,0,0,0],\n",
    "                    [0.05,0.05,0.9,0,0,0],\n",
    "                    [0.1,0.05,0,0.8,0.05,0],\n",
    "                    [0.2,0.1,0,0.05,0.6,0.05],\n",
    "                    [0.1,0.2,0,0,0,0.7],])"
   ]
  },
  {
   "cell_type": "code",
   "execution_count": 4,
   "metadata": {},
   "outputs": [],
   "source": [
    "airwavesQ=airwaves[2:,2:]\n",
    "I=np.identity(4)\n"
   ]
  },
  {
   "cell_type": "code",
   "execution_count": 5,
   "metadata": {},
   "outputs": [],
   "source": [
    "F=I-airwavesQ"
   ]
  },
  {
   "cell_type": "code",
   "execution_count": 6,
   "metadata": {},
   "outputs": [],
   "source": [
    "from numpy.linalg import inv\n",
    "FI=inv(F)"
   ]
  },
  {
   "cell_type": "code",
   "execution_count": 7,
   "metadata": {},
   "outputs": [
    {
     "data": {
      "text/plain": [
       "matrix([[0.5 , 0.5 ],\n",
       "        [0.66, 0.34],\n",
       "        [0.62, 0.38],\n",
       "        [0.33, 0.67]])"
      ]
     },
     "execution_count": 7,
     "metadata": {},
     "output_type": "execute_result"
    }
   ],
   "source": [
    "airwavesR=airwaves[2:,:2]\n",
    "np.dot(FI,airwavesR)\n"
   ]
  },
  {
   "cell_type": "code",
   "execution_count": 20,
   "metadata": {},
   "outputs": [
    {
     "data": {
      "text/plain": [
       "matrix([[10.  ],\n",
       "        [ 5.91],\n",
       "        [ 3.66],\n",
       "        [ 3.33]])"
      ]
     },
     "execution_count": 20,
     "metadata": {},
     "output_type": "execute_result"
    }
   ],
   "source": [
    "np.dot(FI,np.ones((4,1)))"
   ]
  }
 ],
 "metadata": {
  "kernelspec": {
   "display_name": "Python 3",
   "language": "python",
   "name": "python3"
  },
  "language_info": {
   "codemirror_mode": {
    "name": "ipython",
    "version": 3
   },
   "file_extension": ".py",
   "mimetype": "text/x-python",
   "name": "python",
   "nbconvert_exporter": "python",
   "pygments_lexer": "ipython3",
   "version": "3.11.2"
  }
 },
 "nbformat": 4,
 "nbformat_minor": 2
}
