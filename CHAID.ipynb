{
 "cells": [
  {
   "cell_type": "code",
   "execution_count": 1,
   "metadata": {},
   "outputs": [
    {
     "name": "stdout",
     "output_type": "stream",
     "text": [
      "Collecting CHAID\n",
      "  Downloading CHAID-5.4.1.tar.gz (35 kB)\n",
      "  Installing build dependencies: started\n",
      "  Installing build dependencies: finished with status 'done'\n",
      "  Getting requirements to build wheel: started\n",
      "  Getting requirements to build wheel: finished with status 'done'\n",
      "  Preparing metadata (pyproject.toml): started\n",
      "  Preparing metadata (pyproject.toml): finished with status 'done'\n",
      "Requirement already satisfied: cython in c:\\users\\adityam\\appdata\\local\\programs\\python\\python311\\lib\\site-packages (from CHAID) (0.29.34)\n",
      "Requirement already satisfied: numpy in c:\\users\\adityam\\appdata\\local\\programs\\python\\python311\\lib\\site-packages (from CHAID) (1.24.2)\n",
      "Requirement already satisfied: pandas in c:\\users\\adityam\\appdata\\local\\programs\\python\\python311\\lib\\site-packages (from CHAID) (1.5.3)\n",
      "Collecting treelib (from CHAID)\n",
      "  Downloading treelib-1.7.0-py3-none-any.whl (18 kB)\n",
      "Requirement already satisfied: scipy in c:\\users\\adityam\\appdata\\local\\programs\\python\\python311\\lib\\site-packages (from CHAID) (1.10.1)\n",
      "Requirement already satisfied: python-dateutil>=2.8.1 in c:\\users\\adityam\\appdata\\roaming\\python\\python311\\site-packages (from pandas->CHAID) (2.8.2)\n",
      "Requirement already satisfied: pytz>=2020.1 in c:\\users\\adityam\\appdata\\local\\programs\\python\\python311\\lib\\site-packages (from pandas->CHAID) (2022.7.1)\n",
      "Requirement already satisfied: six in c:\\users\\adityam\\appdata\\roaming\\python\\python311\\site-packages (from treelib->CHAID) (1.16.0)\n",
      "Building wheels for collected packages: CHAID\n",
      "  Building wheel for CHAID (pyproject.toml): started\n",
      "  Building wheel for CHAID (pyproject.toml): finished with status 'done'\n",
      "  Created wheel for CHAID: filename=CHAID-5.4.1-py3-none-any.whl size=21051 sha256=ba6e21a883c98a0c0454afa104813365efee1fca5a25eb2057fcb5ca8c2bc3d2\n",
      "  Stored in directory: c:\\users\\adityam\\appdata\\local\\pip\\cache\\wheels\\28\\87\\0b\\b58e14d581c9110f3f9f460f420458785b6329ebccac72e6e4\n",
      "Successfully built CHAID\n",
      "Installing collected packages: treelib, CHAID\n",
      "Successfully installed CHAID-5.4.1 treelib-1.7.0\n",
      "Note: you may need to restart the kernel to use updated packages.\n"
     ]
    },
    {
     "name": "stderr",
     "output_type": "stream",
     "text": [
      "\n",
      "[notice] A new release of pip is available: 23.1.2 -> 23.2.1\n",
      "[notice] To update, run: python.exe -m pip install --upgrade pip\n"
     ]
    }
   ],
   "source": [
    "pip install CHAID"
   ]
  },
  {
   "cell_type": "code",
   "execution_count": 2,
   "metadata": {},
   "outputs": [],
   "source": [
    "from CHAID import Tree, NominalColumn\n",
    "import pandas as pd\n",
    "import numpy as np\n",
    "\n",
    "\n",
    "## create the data\n",
    "ndarr = np.array(([1, 2, 3] * 5) + ([2, 2, 3] * 5)).reshape(10, 3)\n",
    "df = pd.DataFrame(ndarr)\n",
    "df.columns = ['a', 'b', 'c']\n",
    "arr = np.array(([1] * 5) + ([2] * 5))\n",
    "df['d'] = arr\n",
    "\n",
    "\n",
    "\n",
    "\n"
   ]
  },
  {
   "cell_type": "code",
   "execution_count": 3,
   "metadata": {},
   "outputs": [
    {
     "data": {
      "text/html": [
       "<div>\n",
       "<style scoped>\n",
       "    .dataframe tbody tr th:only-of-type {\n",
       "        vertical-align: middle;\n",
       "    }\n",
       "\n",
       "    .dataframe tbody tr th {\n",
       "        vertical-align: top;\n",
       "    }\n",
       "\n",
       "    .dataframe thead th {\n",
       "        text-align: right;\n",
       "    }\n",
       "</style>\n",
       "<table border=\"1\" class=\"dataframe\">\n",
       "  <thead>\n",
       "    <tr style=\"text-align: right;\">\n",
       "      <th></th>\n",
       "      <th>a</th>\n",
       "      <th>b</th>\n",
       "      <th>c</th>\n",
       "      <th>d</th>\n",
       "    </tr>\n",
       "  </thead>\n",
       "  <tbody>\n",
       "    <tr>\n",
       "      <th>0</th>\n",
       "      <td>1</td>\n",
       "      <td>2</td>\n",
       "      <td>3</td>\n",
       "      <td>1</td>\n",
       "    </tr>\n",
       "    <tr>\n",
       "      <th>1</th>\n",
       "      <td>1</td>\n",
       "      <td>2</td>\n",
       "      <td>3</td>\n",
       "      <td>1</td>\n",
       "    </tr>\n",
       "    <tr>\n",
       "      <th>2</th>\n",
       "      <td>1</td>\n",
       "      <td>2</td>\n",
       "      <td>3</td>\n",
       "      <td>1</td>\n",
       "    </tr>\n",
       "    <tr>\n",
       "      <th>3</th>\n",
       "      <td>1</td>\n",
       "      <td>2</td>\n",
       "      <td>3</td>\n",
       "      <td>1</td>\n",
       "    </tr>\n",
       "    <tr>\n",
       "      <th>4</th>\n",
       "      <td>1</td>\n",
       "      <td>2</td>\n",
       "      <td>3</td>\n",
       "      <td>1</td>\n",
       "    </tr>\n",
       "    <tr>\n",
       "      <th>5</th>\n",
       "      <td>2</td>\n",
       "      <td>2</td>\n",
       "      <td>3</td>\n",
       "      <td>2</td>\n",
       "    </tr>\n",
       "    <tr>\n",
       "      <th>6</th>\n",
       "      <td>2</td>\n",
       "      <td>2</td>\n",
       "      <td>3</td>\n",
       "      <td>2</td>\n",
       "    </tr>\n",
       "    <tr>\n",
       "      <th>7</th>\n",
       "      <td>2</td>\n",
       "      <td>2</td>\n",
       "      <td>3</td>\n",
       "      <td>2</td>\n",
       "    </tr>\n",
       "    <tr>\n",
       "      <th>8</th>\n",
       "      <td>2</td>\n",
       "      <td>2</td>\n",
       "      <td>3</td>\n",
       "      <td>2</td>\n",
       "    </tr>\n",
       "    <tr>\n",
       "      <th>9</th>\n",
       "      <td>2</td>\n",
       "      <td>2</td>\n",
       "      <td>3</td>\n",
       "      <td>2</td>\n",
       "    </tr>\n",
       "  </tbody>\n",
       "</table>\n",
       "</div>"
      ],
      "text/plain": [
       "   a  b  c  d\n",
       "0  1  2  3  1\n",
       "1  1  2  3  1\n",
       "2  1  2  3  1\n",
       "3  1  2  3  1\n",
       "4  1  2  3  1\n",
       "5  2  2  3  2\n",
       "6  2  2  3  2\n",
       "7  2  2  3  2\n",
       "8  2  2  3  2\n",
       "9  2  2  3  2"
      ]
     },
     "execution_count": 3,
     "metadata": {},
     "output_type": "execute_result"
    }
   ],
   "source": [
    "df"
   ]
  },
  {
   "cell_type": "code",
   "execution_count": null,
   "metadata": {},
   "outputs": [],
   "source": []
  },
  {
   "cell_type": "code",
   "execution_count": null,
   "metadata": {},
   "outputs": [],
   "source": [
    "\n",
    "## set the CHAID input parameters\n",
    "independent_variable_columns = ['a', 'b', 'c']\n",
    "dep_variable = 'd'\n",
    "\n",
    "## create the Tree via pandas\n",
    "tree = Tree.from_pandas_df(df, dict(zip(independent_variable_columns, ['nominal'] * 3)), dep_variable)\n",
    "## create the same tree, but without pandas helper\n",
    "tree = Tree.from_numpy(ndarr, arr, split_titles=['a', 'b', 'c'], min_child_node_size=5)\n",
    "## create the same tree using the tree constructor\n",
    "cols = [\n",
    "  NominalColumn(ndarr[:,0], name='a'),\n",
    "  NominalColumn(ndarr[:,1], name='b'),\n",
    "  NominalColumn(ndarr[:,2], name='c')\n",
    "]\n",
    "tree = Tree(cols, NominalColumn(arr, name='d'), {'min_child_node_size': 5})"
   ]
  },
  {
   "cell_type": "code",
   "execution_count": 4,
   "metadata": {},
   "outputs": [
    {
     "name": "stdout",
     "output_type": "stream",
     "text": [
      "b'([], {1: 5.0, 2: 5.0}, (a, p=0.001565402258002549, score=10.0, groups=[[1], [2]]), dof=1))\\n|-- ([1], {1: 5.0, 2: 0}, <Invalid Chaid Split> - the minimum parent node size threshold has been reached)\\n+-- ([2], {1: 0, 2: 5.0}, <Invalid Chaid Split> - the minimum parent node size threshold has been reached)\\n'\n"
     ]
    }
   ],
   "source": [
    "tree.print_tree()"
   ]
  },
  {
   "cell_type": "code",
   "execution_count": 5,
   "metadata": {},
   "outputs": [
    {
     "data": {
      "text/plain": [
       "<treelib.tree.Tree at 0x18f203feb90>"
      ]
     },
     "execution_count": 5,
     "metadata": {},
     "output_type": "execute_result"
    }
   ],
   "source": [
    "tree.to_tree()"
   ]
  },
  {
   "cell_type": "code",
   "execution_count": 7,
   "metadata": {},
   "outputs": [
    {
     "data": {
      "text/plain": [
       "([], {1: 5.0, 2: 5.0}, (a, p=0.001565402258002549, score=10.0, groups=[[1], [2]]), dof=1))"
      ]
     },
     "execution_count": 7,
     "metadata": {},
     "output_type": "execute_result"
    }
   ],
   "source": [
    "first_node = tree.tree_store[0]\n",
    "first_node"
   ]
  },
  {
   "cell_type": "code",
   "execution_count": 8,
   "metadata": {},
   "outputs": [
    {
     "data": {
      "text/plain": [
       "{1: 5.0, 2: 5.0}"
      ]
     },
     "execution_count": 8,
     "metadata": {},
     "output_type": "execute_result"
    }
   ],
   "source": [
    "first_node.members"
   ]
  },
  {
   "cell_type": "code",
   "execution_count": 9,
   "metadata": {},
   "outputs": [
    {
     "data": {
      "text/plain": [
       "0.001565402258002549"
      ]
     },
     "execution_count": 9,
     "metadata": {},
     "output_type": "execute_result"
    }
   ],
   "source": [
    "first_node.split.p"
   ]
  }
 ],
 "metadata": {
  "kernelspec": {
   "display_name": "Python 3",
   "language": "python",
   "name": "python3"
  },
  "language_info": {
   "codemirror_mode": {
    "name": "ipython",
    "version": 3
   },
   "file_extension": ".py",
   "mimetype": "text/x-python",
   "name": "python",
   "nbconvert_exporter": "python",
   "pygments_lexer": "ipython3",
   "version": "3.11.2"
  },
  "orig_nbformat": 4
 },
 "nbformat": 4,
 "nbformat_minor": 2
}
