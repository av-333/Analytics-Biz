{
 "cells": [
  {
   "cell_type": "code",
   "execution_count": 306,
   "metadata": {},
   "outputs": [
    {
     "name": "stdout",
     "output_type": "stream",
     "text": [
      "[-6.97986525e-10  2.30449262e+00  4.26842349e+00 ...  3.29559891e+01\n",
      "  2.31075528e+01  2.53592650e-01]\n"
     ]
    }
   ],
   "source": [
    "import numpy as np\n",
    "import pandas as pd\n",
    "from sklearn.linear_model import LinearRegression\n",
    "from sklearn.preprocessing import OneHotEncoder\n",
    "from statsmodels.stats.weightstats import ztest\n",
    "from scipy import stats\n",
    "from scipy.stats import f_oneway\n",
    "from sklearn.cluster import KMeans\n",
    "import seaborn as sns\n",
    "\n",
    "import warnings\n",
    "warnings.filterwarnings(\"ignore\")\n",
    "\n",
    "# Load the data\n",
    "data = pd.read_excel('Central parking dataset.xls')\n",
    "data_s = pd.read_excel('Central parking dataset.xls', sheet_name=1)\n",
    "\n",
    "# Encode categorical variables (weekday, ticket type) using one-hot encoding\n",
    "encoder = OneHotEncoder()\n",
    "X = encoder.fit_transform(data[['Vehicle', 'Equipment', 'DateIn', 'Time In', 'DateOut', 'Time Out']])\n",
    "y = data['Amount']\n",
    "\n",
    "# Perform multiple linear regression\n",
    "reg = LinearRegression().fit(X, y)\n",
    "\n",
    "# Print the coefficients\n",
    "print(reg.coef_)"
   ]
  },
  {
   "cell_type": "markdown",
   "metadata": {},
   "source": [
    "The output of the code is a list of coefficients representing the effects of each feature on the target variable. In this case, the output shows that the coefficients for the intercept and the features vehicle, equipment, datein, timein, dateout, and timeout are respectively -6.97986525e-10, 2.30449262e+00, 4.26842349e+00, 3.29559891e+01, 2.31075528e+01, and 2.53592650e-01. These coefficients can be used to make predictions for new observations."
   ]
  },
  {
   "cell_type": "code",
   "execution_count": 307,
   "metadata": {},
   "outputs": [
    {
     "name": "stdout",
     "output_type": "stream",
     "text": [
      "\t \tTimediff\n",
      "Weekday\n",
      "Friday       141.215426\n",
      "Monday       137.325289\n",
      "Thursday     131.698529\n",
      "Tuesday      131.928042\n",
      "Wednesday    136.691781\n",
      "Name: TimeDiff, dtype: float64\n",
      "             sum       mean\n",
      "Weekday                    \n",
      "Friday     41320  36.631206\n",
      "Monday     36280  38.069255\n",
      "Thursday   34190  35.913866\n",
      "Tuesday    34830  36.857143\n",
      "Wednesday  37620  36.810176\n"
     ]
    }
   ],
   "source": [
    "# Group the data by weekday and compute summary statistics\n",
    "data_grouped = data.groupby('Weekday')\n",
    "\n",
    "# Print the selected columns\n",
    "print(\"\\t \\tTimediff\")\n",
    "print(data_grouped['TimeDiff'].agg('mean'))\n",
    "print(data_grouped['Amount'].agg(['sum', 'mean']))\n",
    "\n"
   ]
  },
  {
   "cell_type": "markdown",
   "metadata": {},
   "source": [
    "The output shows the calculated summary statistics for each weekday. The first column displays the weekday name, followed by the mean of the 'TimeDiff' column, and then the sum and mean of the 'Amount' column."
   ]
  },
  {
   "cell_type": "markdown",
   "metadata": {},
   "source": [
    "*To perform hypothesis testing on the parking data, we need to define the research question and formulate hypotheses. Here are some possible research questions and hypotheses:*\n",
    "\n",
    "### Research Question 1: Is there a significant difference in the average duration of stay between weekdays and weekends?\n",
    "\n",
    "    Hypothesis 1: H0: There is no significant difference in the average duration of stay between weekdays and weekends.\n",
    "    Ha: There is a significant difference in the average duration of stay between weekdays and weekends."
   ]
  },
  {
   "cell_type": "code",
   "execution_count": 308,
   "metadata": {},
   "outputs": [
    {
     "name": "stdout",
     "output_type": "stream",
     "text": [
      "Z-Statistic:  5.779611710397493\n",
      "P-Value:  7.487322563295936e-09\n",
      "Reject Null Hypothesis: There is a significant difference in the average duration of stay between weekdays and weekends.\n"
     ]
    }
   ],
   "source": [
    "# Group the data by weekday and compute summary statistics\n",
    "data_grouped = data.groupby('Weekday')\n",
    "weekday_means = data_grouped['TimeDiff'].mean()\n",
    "\n",
    "data_s_grouped = data_s.groupby('Weekday')\n",
    "weekend_means = data_s_grouped['TimeDiff'].mean()\n",
    "\n",
    "# Perform the z-test\n",
    "z_statistic, p_value = ztest(weekend_means, weekday_means)\n",
    "\n",
    "# Print the results\n",
    "print(\"Z-Statistic: \", z_statistic)\n",
    "print(\"P-Value: \", p_value)\n",
    "\n",
    "# Check for significance\n",
    "if p_val < 0.05:\n",
    "  print(\"Reject Null Hypothesis: There is a significant difference in the average duration of stay between weekdays and weekends.\")\n",
    "else:\n",
    "  print(\"Fail to Reject Null Hypothesis: There is no significant difference in the average duration of stay between weekdays and weekends.\")"
   ]
  },
  {
   "cell_type": "markdown",
   "metadata": {},
   "source": [
    "### Research Question 2: Is there a significant difference in the average amount paid for parking between weekdays and weekends?\n",
    "\n",
    "    Hypothesis 2: H0: There is no significant difference in the average amount paid for parking between weekdays and weekends.\n",
    "    Ha: There is a significant difference in the average amount paid for parking between weekdays and weekends."
   ]
  },
  {
   "cell_type": "code",
   "execution_count": 309,
   "metadata": {},
   "outputs": [
    {
     "name": "stdout",
     "output_type": "stream",
     "text": [
      "T-Statistic:  32.25882527145591\n",
      "P-Value:  5.37774268255409e-07\n",
      "Reject Null Hypothesis: There is no significant difference in the average amount paid for parking between weekdays and weekends.\n"
     ]
    }
   ],
   "source": [
    "# Group the data by weekday and compute summary statistics\n",
    "# Compute the means and standard deviations for each day\n",
    "weekday_means = data.groupby('Weekday').mean()['Amount']\n",
    "weekend_means = data_s.groupby('Weekday').mean()['Amount']\n",
    "\n",
    "# Perform the t-test\n",
    "t_statistic, p_value = stats.ttest_ind(weekend_means, weekday_means)\n",
    "\n",
    "# Print the results\n",
    "print(\"T-Statistic: \", t_statistic)\n",
    "print(\"P-Value: \", p_value)\n",
    "\n",
    "# Check for significance\n",
    "if p_val < 0.05:\n",
    "  print(\"Reject Null Hypothesis: There is no significant difference in the average amount paid for parking between weekdays and weekends.\")\n",
    "else:\n",
    "  print(\"Fail to Reject Null Hypothesis: There is a significant difference in the average amount paid for parking between weekdays and weekends.\")"
   ]
  },
  {
   "cell_type": "markdown",
   "metadata": {},
   "source": [
    "### Research Question 3: Is there a significant correlation between the duration of stay and the amount paid for parking?\n",
    "\n",
    "    Hypothesis 3: H0: There is no significant correlation between the duration of stay and the amount paid for parking.\n",
    "    Ha: There is a significant correlation between the duration of stay and the amount paid for parking."
   ]
  },
  {
   "cell_type": "code",
   "execution_count": 310,
   "metadata": {},
   "outputs": [
    {
     "name": "stdout",
     "output_type": "stream",
     "text": [
      "F-test:  265.8320974500007\n",
      "P-Value:  1.492456377578816e-09\n",
      "Reject Null Hypothesis: here is a significant correlation between the duration of stay and the amount paid for parking.\n"
     ]
    }
   ],
   "source": [
    "# Group the data by weekday and compute summary statistics\n",
    "weekday_means = data.groupby('Weekday').mean()['Amount']\n",
    "weekend_means = data_s.groupby('Weekday').mean()['Amount']\n",
    "\n",
    "weekday_amount = pd.concat([weekday_means, weekend_means], ignore_index=True)\n",
    "\n",
    "weekday_means = data.groupby('Weekday').mean()['TimeDiff']\n",
    "weekend_means = data_s.groupby('Weekday').mean()['TimeDiff']\n",
    "\n",
    "weekday_timediff = pd.concat([weekday_means, weekend_means], ignore_index=True)\n",
    "\n",
    "# Perform the ANOVA test\n",
    "f_value, p_value = f_oneway(weekday_timediff, weekday_amount)\n",
    "\n",
    "# Print the results\n",
    "print(\"F-test: \", f_value)\n",
    "print(\"P-Value: \", p_value)\n",
    "\n",
    "if p_value < 0.05:\n",
    "  print(\"Reject Null Hypothesis: here is a significant correlation between the duration of stay and the amount paid for parking.\")\n",
    "else:\n",
    "  print(\"Fail to Reject Null Hypothesis: There is no significant correlation between the duration of stay and the amount paid for parking.\")"
   ]
  },
  {
   "cell_type": "markdown",
   "metadata": {},
   "source": [
    "### Clustering analysis: Perform clustering analysis to group similar customers based on their behavior, time spent in the parking lot, or amount paid. This can help identify loyal customers or those who may require additional services."
   ]
  },
  {
   "cell_type": "code",
   "execution_count": 311,
   "metadata": {},
   "outputs": [
    {
     "name": "stderr",
     "output_type": "stream",
     "text": [
      "Exception ignored on calling ctypes callback function: <function _ThreadpoolInfo._find_modules_with_dl_iterate_phdr.<locals>.match_module_callback at 0x7fb026e0a290>\n",
      "Traceback (most recent call last):\n",
      "  File \"/home/hellsgate/Downloads/anaconda3/lib/python3.10/site-packages/threadpoolctl.py\", line 400, in match_module_callback\n",
      "    self._make_module_from_path(filepath)\n",
      "  File \"/home/hellsgate/Downloads/anaconda3/lib/python3.10/site-packages/threadpoolctl.py\", line 515, in _make_module_from_path\n",
      "    module = module_class(filepath, prefix, user_api, internal_api)\n",
      "  File \"/home/hellsgate/Downloads/anaconda3/lib/python3.10/site-packages/threadpoolctl.py\", line 606, in __init__\n",
      "    self.version = self.get_version()\n",
      "  File \"/home/hellsgate/Downloads/anaconda3/lib/python3.10/site-packages/threadpoolctl.py\", line 646, in get_version\n",
      "    config = get_config().split()\n",
      "AttributeError: 'NoneType' object has no attribute 'split'\n",
      "Exception ignored on calling ctypes callback function: <function _ThreadpoolInfo._find_modules_with_dl_iterate_phdr.<locals>.match_module_callback at 0x7fb026e0a170>\n",
      "Traceback (most recent call last):\n",
      "  File \"/home/hellsgate/Downloads/anaconda3/lib/python3.10/site-packages/threadpoolctl.py\", line 400, in match_module_callback\n",
      "    self._make_module_from_path(filepath)\n",
      "  File \"/home/hellsgate/Downloads/anaconda3/lib/python3.10/site-packages/threadpoolctl.py\", line 515, in _make_module_from_path\n",
      "    module = module_class(filepath, prefix, user_api, internal_api)\n",
      "  File \"/home/hellsgate/Downloads/anaconda3/lib/python3.10/site-packages/threadpoolctl.py\", line 606, in __init__\n",
      "    self.version = self.get_version()\n",
      "  File \"/home/hellsgate/Downloads/anaconda3/lib/python3.10/site-packages/threadpoolctl.py\", line 646, in get_version\n",
      "    config = get_config().split()\n",
      "AttributeError: 'NoneType' object has no attribute 'split'\n",
      "Exception ignored on calling ctypes callback function: <function _ThreadpoolInfo._find_modules_with_dl_iterate_phdr.<locals>.match_module_callback at 0x7fb026e0a3b0>\n",
      "Traceback (most recent call last):\n",
      "  File \"/home/hellsgate/Downloads/anaconda3/lib/python3.10/site-packages/threadpoolctl.py\", line 400, in match_module_callback\n",
      "    self._make_module_from_path(filepath)\n",
      "  File \"/home/hellsgate/Downloads/anaconda3/lib/python3.10/site-packages/threadpoolctl.py\", line 515, in _make_module_from_path\n",
      "    module = module_class(filepath, prefix, user_api, internal_api)\n",
      "  File \"/home/hellsgate/Downloads/anaconda3/lib/python3.10/site-packages/threadpoolctl.py\", line 606, in __init__\n",
      "    self.version = self.get_version()\n",
      "  File \"/home/hellsgate/Downloads/anaconda3/lib/python3.10/site-packages/threadpoolctl.py\", line 646, in get_version\n",
      "    config = get_config().split()\n",
      "AttributeError: 'NoneType' object has no attribute 'split'\n"
     ]
    },
    {
     "name": "stderr",
     "output_type": "stream",
     "text": [
      "Exception ignored on calling ctypes callback function: <function _ThreadpoolInfo._find_modules_with_dl_iterate_phdr.<locals>.match_module_callback at 0x7fb026e0a290>\n",
      "Traceback (most recent call last):\n",
      "  File \"/home/hellsgate/Downloads/anaconda3/lib/python3.10/site-packages/threadpoolctl.py\", line 400, in match_module_callback\n",
      "    self._make_module_from_path(filepath)\n",
      "  File \"/home/hellsgate/Downloads/anaconda3/lib/python3.10/site-packages/threadpoolctl.py\", line 515, in _make_module_from_path\n",
      "    module = module_class(filepath, prefix, user_api, internal_api)\n",
      "  File \"/home/hellsgate/Downloads/anaconda3/lib/python3.10/site-packages/threadpoolctl.py\", line 606, in __init__\n",
      "    self.version = self.get_version()\n",
      "  File \"/home/hellsgate/Downloads/anaconda3/lib/python3.10/site-packages/threadpoolctl.py\", line 646, in get_version\n",
      "    config = get_config().split()\n",
      "AttributeError: 'NoneType' object has no attribute 'split'\n",
      "Exception ignored on calling ctypes callback function: <function _ThreadpoolInfo._find_modules_with_dl_iterate_phdr.<locals>.match_module_callback at 0x7fb02d6df490>\n",
      "Traceback (most recent call last):\n",
      "  File \"/home/hellsgate/Downloads/anaconda3/lib/python3.10/site-packages/threadpoolctl.py\", line 400, in match_module_callback\n",
      "    self._make_module_from_path(filepath)\n",
      "  File \"/home/hellsgate/Downloads/anaconda3/lib/python3.10/site-packages/threadpoolctl.py\", line 515, in _make_module_from_path\n",
      "    module = module_class(filepath, prefix, user_api, internal_api)\n",
      "  File \"/home/hellsgate/Downloads/anaconda3/lib/python3.10/site-packages/threadpoolctl.py\", line 606, in __init__\n",
      "    self.version = self.get_version()\n",
      "  File \"/home/hellsgate/Downloads/anaconda3/lib/python3.10/site-packages/threadpoolctl.py\", line 646, in get_version\n",
      "    config = get_config().split()\n",
      "AttributeError: 'NoneType' object has no attribute 'split'\n",
      "Exception ignored on calling ctypes callback function: <function _ThreadpoolInfo._find_modules_with_dl_iterate_phdr.<locals>.match_module_callback at 0x7fb026e0a3b0>\n",
      "Traceback (most recent call last):\n",
      "  File \"/home/hellsgate/Downloads/anaconda3/lib/python3.10/site-packages/threadpoolctl.py\", line 400, in match_module_callback\n",
      "    self._make_module_from_path(filepath)\n",
      "  File \"/home/hellsgate/Downloads/anaconda3/lib/python3.10/site-packages/threadpoolctl.py\", line 515, in _make_module_from_path\n",
      "    module = module_class(filepath, prefix, user_api, internal_api)\n",
      "  File \"/home/hellsgate/Downloads/anaconda3/lib/python3.10/site-packages/threadpoolctl.py\", line 606, in __init__\n",
      "    self.version = self.get_version()\n",
      "  File \"/home/hellsgate/Downloads/anaconda3/lib/python3.10/site-packages/threadpoolctl.py\", line 646, in get_version\n",
      "    config = get_config().split()\n",
      "AttributeError: 'NoneType' object has no attribute 'split'\n",
      "Exception ignored on calling ctypes callback function: <function _ThreadpoolInfo._find_modules_with_dl_iterate_phdr.<locals>.match_module_callback at 0x7fb026e0a050>\n",
      "Traceback (most recent call last):\n",
      "  File \"/home/hellsgate/Downloads/anaconda3/lib/python3.10/site-packages/threadpoolctl.py\", line 400, in match_module_callback\n",
      "    self._make_module_from_path(filepath)\n",
      "  File \"/home/hellsgate/Downloads/anaconda3/lib/python3.10/site-packages/threadpoolctl.py\", line 515, in _make_module_from_path\n",
      "    module = module_class(filepath, prefix, user_api, internal_api)\n",
      "  File \"/home/hellsgate/Downloads/anaconda3/lib/python3.10/site-packages/threadpoolctl.py\", line 606, in __init__\n",
      "    self.version = self.get_version()\n",
      "  File \"/home/hellsgate/Downloads/anaconda3/lib/python3.10/site-packages/threadpoolctl.py\", line 646, in get_version\n",
      "    config = get_config().split()\n",
      "AttributeError: 'NoneType' object has no attribute 'split'\n",
      "Exception ignored on calling ctypes callback function: <function _ThreadpoolInfo._find_modules_with_dl_iterate_phdr.<locals>.match_module_callback at 0x7fb02d6df490>\n",
      "Traceback (most recent call last):\n",
      "  File \"/home/hellsgate/Downloads/anaconda3/lib/python3.10/site-packages/threadpoolctl.py\", line 400, in match_module_callback\n",
      "    self._make_module_from_path(filepath)\n",
      "  File \"/home/hellsgate/Downloads/anaconda3/lib/python3.10/site-packages/threadpoolctl.py\", line 515, in _make_module_from_path\n",
      "    module = module_class(filepath, prefix, user_api, internal_api)\n",
      "  File \"/home/hellsgate/Downloads/anaconda3/lib/python3.10/site-packages/threadpoolctl.py\", line 606, in __init__\n",
      "    self.version = self.get_version()\n",
      "  File \"/home/hellsgate/Downloads/anaconda3/lib/python3.10/site-packages/threadpoolctl.py\", line 646, in get_version\n",
      "    config = get_config().split()\n",
      "AttributeError: 'NoneType' object has no attribute 'split'\n",
      "Exception ignored on calling ctypes callback function: <function _ThreadpoolInfo._find_modules_with_dl_iterate_phdr.<locals>.match_module_callback at 0x7fb026e0a050>\n",
      "Traceback (most recent call last):\n",
      "  File \"/home/hellsgate/Downloads/anaconda3/lib/python3.10/site-packages/threadpoolctl.py\", line 400, in match_module_callback\n",
      "    self._make_module_from_path(filepath)\n",
      "  File \"/home/hellsgate/Downloads/anaconda3/lib/python3.10/site-packages/threadpoolctl.py\", line 515, in _make_module_from_path\n",
      "    module = module_class(filepath, prefix, user_api, internal_api)\n",
      "  File \"/home/hellsgate/Downloads/anaconda3/lib/python3.10/site-packages/threadpoolctl.py\", line 606, in __init__\n",
      "    self.version = self.get_version()\n",
      "  File \"/home/hellsgate/Downloads/anaconda3/lib/python3.10/site-packages/threadpoolctl.py\", line 646, in get_version\n",
      "    config = get_config().split()\n",
      "AttributeError: 'NoneType' object has no attribute 'split'\n",
      "Exception ignored on calling ctypes callback function: <function _ThreadpoolInfo._find_modules_with_dl_iterate_phdr.<locals>.match_module_callback at 0x7fb026e0a170>\n",
      "Traceback (most recent call last):\n",
      "  File \"/home/hellsgate/Downloads/anaconda3/lib/python3.10/site-packages/threadpoolctl.py\", line 400, in match_module_callback\n",
      "    self._make_module_from_path(filepath)\n",
      "  File \"/home/hellsgate/Downloads/anaconda3/lib/python3.10/site-packages/threadpoolctl.py\", line 515, in _make_module_from_path\n",
      "    module = module_class(filepath, prefix, user_api, internal_api)\n",
      "  File \"/home/hellsgate/Downloads/anaconda3/lib/python3.10/site-packages/threadpoolctl.py\", line 606, in __init__\n",
      "    self.version = self.get_version()\n",
      "  File \"/home/hellsgate/Downloads/anaconda3/lib/python3.10/site-packages/threadpoolctl.py\", line 646, in get_version\n",
      "    config = get_config().split()\n",
      "AttributeError: 'NoneType' object has no attribute 'split'\n",
      "Exception ignored on calling ctypes callback function: <function _ThreadpoolInfo._find_modules_with_dl_iterate_phdr.<locals>.match_module_callback at 0x7fb02d6df490>\n",
      "Traceback (most recent call last):\n",
      "  File \"/home/hellsgate/Downloads/anaconda3/lib/python3.10/site-packages/threadpoolctl.py\", line 400, in match_module_callback\n",
      "    self._make_module_from_path(filepath)\n",
      "  File \"/home/hellsgate/Downloads/anaconda3/lib/python3.10/site-packages/threadpoolctl.py\", line 515, in _make_module_from_path\n",
      "    module = module_class(filepath, prefix, user_api, internal_api)\n",
      "  File \"/home/hellsgate/Downloads/anaconda3/lib/python3.10/site-packages/threadpoolctl.py\", line 606, in __init__\n",
      "    self.version = self.get_version()\n",
      "  File \"/home/hellsgate/Downloads/anaconda3/lib/python3.10/site-packages/threadpoolctl.py\", line 646, in get_version\n",
      "    config = get_config().split()\n",
      "AttributeError: 'NoneType' object has no attribute 'split'\n"
     ]
    },
    {
     "data": {
      "text/plain": [
       "Text(0.5, 1.0, 'Clustering Results')"
      ]
     },
     "execution_count": 311,
     "metadata": {},
     "output_type": "execute_result"
    },
    {
     "data": {
      "image/png": "[encoded data removed]",
      "text/plain": [
       "<Figure size 640x480 with 1 Axes>"
      ]
     },
     "metadata": {},
     "output_type": "display_data"
    }
   ],
   "source": [
    "# Extract features for clustering\n",
    "features = data[['TimeDiff', 'Amount']]\n",
    "\n",
    "# Apply KMeans clustering\n",
    "kmeans = KMeans(n_clusters=5, random_state=42)\n",
    "kmeans.fit(features)\n",
    "\n",
    "# Predict cluster labels\n",
    "predicted_labels = kmeans.predict(features)\n",
    "\n",
    "# Create new dataframe with cluster labels\n",
    "clustered_data = pd.concat([data, pd.Series(predicted_labels, index=data.index)], axis=1)\n",
    "\n",
    "# Plot the data points\n",
    "ax = sns.scatterplot(x='TimeDiff', y='Amount', hue=predicted_labels, data=clustered_data)\n",
    "\n",
    "# Add axis labels\n",
    "\n",
    "ax.set(xlabel='Time Difference', ylabel='Amount')\n",
    "\n",
    "# Add title\n",
    "ax.set_title('Clustering Results')"
   ]
  },
  {
   "cell_type": "code",
   "execution_count": null,
   "metadata": {},
   "outputs": [],
   "source": []
  }
 ],
 "metadata": {
  "kernelspec": {
   "display_name": "base",
   "language": "python",
   "name": "python3"
  },
  "language_info": {
   "codemirror_mode": {
    "name": "ipython",
    "version": 3
   },
   "file_extension": ".py",
   "mimetype": "text/x-python",
   "name": "python",
   "nbconvert_exporter": "python",
   "pygments_lexer": "ipython3",
   "version": "3.10.9"
  }
 },
 "nbformat": 4,
 "nbformat_minor": 2
}
